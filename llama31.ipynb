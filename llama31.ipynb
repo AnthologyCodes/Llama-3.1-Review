@ -0,0 +1,181 @@
{
 "cells": [
  {
   "cell_type": "code",
   "execution_count": null,
   "metadata": {},
   "outputs": [],
   "source": [
    "import os\n",
    "import dotenv\n",
    "\n",
    "dotenv.load_dotenv()\n",
    "fireworks_api = os.getenv(\"FIREWORKS_API_KEY\")\n",
    "OPENAI_API = os.getenv(\"OPENAI\")\n",
    "PINECONE_API = os.getenv(\"PINECONE_API\")"
   ]
  },
  {
   "cell_type": "code",
   "execution_count": null,
   "metadata": {},
   "outputs": [],
   "source": [
    "import requests\n",
    "from bs4 import BeautifulSoup\n",
    "from langchain_openai import OpenAIEmbeddings\n",
    "from langchain_text_splitters import CharacterTextSplitter\n",
    "from langchain_pinecone import PineconeVectorStore\n",
    "\n",
    "# Extract text from Wikipedia article\n",
    "# url = \"https://en.wikipedia.org/wiki/Attempted_assassination_of_Donald_Trump\"\n",
    "url = \"https://en.wikipedia.org/wiki/Manhattan_Project\"\n",
    "text = BeautifulSoup(requests.get(url).text,\n",
    "                     \"html.parser\").get_text(strip=True)\n",
    "\n",
    "text_splitter = CharacterTextSplitter(\n",
    "    chunk_size=200,\n",
    "    chunk_overlap=0,\n",
    "    separator=\" \",\n",
    ")\n",
    "\n",
    "# Split text into chunks\n",
    "text_chunks = text_splitter.split_text(text)\n",
    "docs = text_splitter.create_documents(text_chunks)\n",
    "\n",
    "# Generate embeddings and upload to Pinecone\n",
    "embeddings = OpenAIEmbeddings(\n",
    "    model=\"text-embedding-3-large\", api_key=OPENAI_API)\n",
    "vectorstore = PineconeVectorStore(\n",
    "    index_name=\"testllama-31\", embedding=embeddings, pinecone_api_key=PINECONE_API\n",
    ")\n",
    "vectorstore.add_documents(docs)"
   ]
  },
  {
   "cell_type": "code",
   "execution_count": null,
   "metadata": {},
   "outputs": [],
   "source": [
    "from langchain_fireworks import ChatFireworks\n",
    "\n",
    "llm = ChatFireworks(\n",
    "    model=\"accounts/fireworks/models/llama-v3p1-405b-instruct\",\n",
    "    temperature=0,\n",
    "    max_tokens=None,\n",
    "    timeout=None,\n",
    "    max_retries=2,\n",
    "    fireworks_api_key=fireworks_api,\n",
    ")"
   ]
  },
  {
   "cell_type": "code",
   "execution_count": null,
   "metadata": {},
   "outputs": [],
   "source": [
    "from langchain_core.prompts import PromptTemplate\n",
    "from langchain_core.output_parsers import StrOutputParser\n",
    "from langchain_core.runnables import RunnablePassthrough\n",
    "\n",
    "\n",
    "def format_docs(docs):\n",
    "    return \"\\n\\n\".join(doc.page_content for doc in docs)\n",
    "\n",
    "\n",
    "template = \"\"\"\n",
    "I am creating a YouTube video to demonstrate your proficiency in Retrieval-Augmented Generation (RAG). Please use the provided context to answer the questions accurately. Below is the context for you to reference:\n",
    "\n",
    "{context}\n",
    "\n",
    "Question: {question}\n",
    "\n",
    "Answer Here:\"\"\"\n",
    "prompt = PromptTemplate.from_template(template)\n",
    "\n",
    "chain = (\n",
    "    {\n",
    "        \"context\": vectorstore.as_retriever() | format_docs,\n",
    "        \"question\": RunnablePassthrough(),\n",
    "    }\n",
    "    | prompt\n",
    "    | llm\n",
    "    | StrOutputParser()\n",
    ")"
   ]
  },
  {
   "cell_type": "code",
   "execution_count": null,
   "metadata": {},
   "outputs": [],
   "source": [
    "chain.invoke(\"What was the role of the S-1 Committee in the Manhattan Project?\")"
   ]
  },
  {
   "cell_type": "code",
   "execution_count": null,
   "metadata": {},
   "outputs": [],
   "source": [
    "chain.invoke(\"Who were the key members of the S-1 Committee?\")"
   ]
  },
  {
   "cell_type": "code",
   "execution_count": null,
   "metadata": {},
   "outputs": [],
   "source": [
    "chain.invoke(\n",
    "    \"Who were the leading scientists involved in the Manhattan Project?\")"
   ]
  },
  {
   "cell_type": "code",
   "execution_count": null,
   "metadata": {},
   "outputs": [],
   "source": [
    "chain.invoke(\n",
    "    \"What were the initial recommendations of the S-1 Committee for the Manhattan Project?\"\n",
    ")"
   ]
  },
  {
   "cell_type": "code",
   "execution_count": null,
   "metadata": {},
   "outputs": [],
   "source": [
    "chain.invoke(\n",
    "    \"How did the Manhattan Project impact post-war science and technology?\")"
   ]
  }
 ],
 "metadata": {
  "kernelspec": {
   "display_name": "AllMind-v2-DataAPI-Source",
   "language": "python",
   "name": "python3"
  },
  "language_info": {
   "codemirror_mode": {
    "name": "ipython",
    "version": 3
   },
   "file_extension": ".py",
   "mimetype": "text/x-python",
   "name": "python",
   "nbconvert_exporter": "python",
   "pygments_lexer": "ipython3",
   "version": "3.12.4"
  },
  "orig_nbformat": 4
 },
 "nbformat": 4,
 "nbformat_minor": 2
}
